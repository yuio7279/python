{
 "cells": [
  {
   "cell_type": "markdown",
   "id": "36ddfcb9",
   "metadata": {},
   "source": [
    "# Pandas\n",
    "파이썬에서 사용하는 데이터 분석 라이브러리"
   ]
  },
  {
   "cell_type": "code",
   "execution_count": 1,
   "id": "6dfe750b",
   "metadata": {},
   "outputs": [],
   "source": [
    "import pandas as pd"
   ]
  },
  {
   "cell_type": "markdown",
   "id": "6806e282",
   "metadata": {},
   "source": [
    "# 1. Series\n",
    "1차원 데이터(정수, 실수, 문자열 등)"
   ]
  },
  {
   "cell_type": "markdown",
   "id": "ad2d3f3a",
   "metadata": {},
   "source": [
    "## Series 객체 생성\n",
    "ex) 1월부터 4월까지 평균 온도 데이터 (-20, -10, 10, 20)"
   ]
  },
  {
   "cell_type": "code",
   "execution_count": 3,
   "id": "4f724702",
   "metadata": {},
   "outputs": [
    {
     "data": {
      "text/plain": [
       "0   -20\n",
       "1   -10\n",
       "2    10\n",
       "3    20\n",
       "dtype: int64"
      ]
     },
     "execution_count": 3,
     "metadata": {},
     "output_type": "execute_result"
    }
   ],
   "source": [
    "temp = pd.Series([-20,-10,10,20])\n",
    "temp"
   ]
  },
  {
   "cell_type": "code",
   "execution_count": 4,
   "id": "550f0059",
   "metadata": {},
   "outputs": [
    {
     "data": {
      "text/plain": [
       "-20"
      ]
     },
     "execution_count": 4,
     "metadata": {},
     "output_type": "execute_result"
    }
   ],
   "source": [
    "temp[0]"
   ]
  },
  {
   "cell_type": "code",
   "execution_count": 5,
   "id": "e5b27097",
   "metadata": {},
   "outputs": [
    {
     "data": {
      "text/plain": [
       "10"
      ]
     },
     "execution_count": 5,
     "metadata": {},
     "output_type": "execute_result"
    }
   ],
   "source": [
    "temp[2]"
   ]
  },
  {
   "cell_type": "markdown",
   "id": "a10ed1fa",
   "metadata": {},
   "source": [
    "# Series 객체 생성 (Index 지정)"
   ]
  },
  {
   "cell_type": "code",
   "execution_count": 7,
   "id": "ee36754f",
   "metadata": {},
   "outputs": [
    {
     "data": {
      "text/plain": [
       "Jan   -20\n",
       "Feb   -10\n",
       "Mar    10\n",
       "Apr    20\n",
       "dtype: int64"
      ]
     },
     "execution_count": 7,
     "metadata": {},
     "output_type": "execute_result"
    }
   ],
   "source": [
    "temp = pd.Series([-20,-10,10,20], index=['Jan','Feb','Mar','Apr'])\n",
    "temp"
   ]
  },
  {
   "cell_type": "code",
   "execution_count": 8,
   "id": "f1e4c388",
   "metadata": {},
   "outputs": [
    {
     "data": {
      "text/plain": [
       "-20"
      ]
     },
     "execution_count": 8,
     "metadata": {},
     "output_type": "execute_result"
    }
   ],
   "source": [
    "temp['Jan']"
   ]
  },
  {
   "cell_type": "code",
   "execution_count": 10,
   "id": "e5ec77a8",
   "metadata": {},
   "outputs": [],
   "source": [
    "# temp['Jun']"
   ]
  },
  {
   "cell_type": "code",
   "execution_count": null,
   "id": "d7867c31",
   "metadata": {},
   "outputs": [],
   "source": []
  }
 ],
 "metadata": {
  "kernelspec": {
   "display_name": "Python 3 (ipykernel)",
   "language": "python",
   "name": "python3"
  },
  "language_info": {
   "codemirror_mode": {
    "name": "ipython",
    "version": 3
   },
   "file_extension": ".py",
   "mimetype": "text/x-python",
   "name": "python",
   "nbconvert_exporter": "python",
   "pygments_lexer": "ipython3",
   "version": "3.9.7"
  }
 },
 "nbformat": 4,
 "nbformat_minor": 5
}
